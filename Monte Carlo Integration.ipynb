{
 "cells": [
  {
   "cell_type": "markdown",
   "metadata": {},
   "source": [
    "## Overview of Monte Carlo Integration\n",
    "Monte Carlo integration is an integration technique that calculates the value of complex definite integrals which do not have a closed-form solution. Essentially, in a Monte Carlo integration, you choose some $n$ which defines how many partitions you take. As the sample size $n$ increases, the average of the areas of these partitions becomes more and more accurate/close to the exact value. The convergence of the Monte Carlo integration as $n$ goes to $\\infty$, the rate of error reaches $0$.\n",
    "\n",
    "The average value of a function $f$, which solely depends on $x$ is equal to $f_{avg}=\\frac{1}{b-a}\\int_a^bf(x)$. We can rearrange this as $(b-a)f_{avg}=\\int_a^bf(x)$. However, if we try to apply this function with a function $f$ which depends on many parameters, it can become computationaly expensive and time consuming. \n",
    "In order to get around this, we apply the law of large numbers and random sampling. This leads us to Monte Carlo Integration. This integration technique is somewhat subpart on single variable integration, but is optiminal with multivariables.\n",
    "\n",
    "If we want to sketch of the derivation of Monte Carlo Integration, we can see that expanding the equation $(b-a)f_{avg}=\\int_a^bf(x)$ gets us $(b-a)\\frac{1}{N}\\sum f(x_i) \\approx \\int{a}^{b}f(x)dx$. \n",
    "\n",
    "### Developing a Python script\n",
    "First, I imported a variety of functions:\n",
    "- Scipy because we need to use the random function in order to choose lengths of the integrating values\n",
    "- Numpy inorder to allow access to variables such as pi\n",
    "- Matplotlib in order to develop a graph to visualize the analysis of Monte Carlo Integration\n",
    "\n",
    "I then used scipy's random function in order to create $N$ random distributions of integration parts on the interval $[a,b]$ (where $a$ and $b$ are inputs the user can change). I then computed the value of the function at each partition and summed all these values together. Finally, I used the above formula with htis new number in order to compute the integral area."
   ]
  },
  {
   "cell_type": "markdown",
   "metadata": {},
   "source": [
    "## Monte Carlo for 1-dimensions\n",
    "The below code is an example for an implementation of Monte Carlo in 1-dimension.\n",
    "\n",
    "### Example\n",
    "Evaluate the integral $\\int_0^\\pi sin(x)dx$.\n",
    "This is a somewhat trivial example, as we know this is equal to $-cos(x)$ evaluated from $0$ to $\\pi$ which is $2$.\n",
    "\n",
    "In general, you can change the output of the Monte Carlo function by changing the output of the function \"function(x)\". The provided code runs the previous example for analysis."
   ]
  },
  {
   "cell_type": "code",
   "execution_count": 20,
   "metadata": {},
   "outputs": [
    {
     "name": "stdout",
     "output_type": "stream",
     "text": [
      "The integral from 0 to pi of sin(x) with N=1000:  2.053356847401461\n",
      "The integral from 0 to 1 of 2^x with N=1000:  1.4488534173225012\n",
      "The integral from 0 to 1 of x^3 with N=1000:  0.2618423647725511\n"
     ]
    }
   ],
   "source": [
    "%matplotlib inline\n",
    "from scipy import random\n",
    "import numpy as np\n",
    "\n",
    "def function(x):\n",
    "    return np.sin(x)\n",
    "\n",
    "def Int(a, b, N, fn): \n",
    "    # fn = function evaluating integral for\n",
    "    # N = number of samples\n",
    "    # a,b = limits of integration\n",
    "    xrand = random.uniform(a,b,N) # create a randomly division \n",
    "    # let S_n = sum{j=1}^{N} f(U_j)\n",
    "    integral = 0.0\n",
    "    for i in range(N):\n",
    "        integral += fn(xrand[i])\n",
    "    return (b-a)/float(N)*integral # want to return (b-a) S_n / N\n",
    "\n",
    "f1 = lambda x : np.sin(x)\n",
    "f2 = lambda x : 2**x\n",
    "f3 = lambda x:  x**3\n",
    "\n",
    "print(\"The integral from 0 to pi of sin(x) with N=1000: \",Int(0,np.pi,1000,f1))\n",
    "print(\"The integral from 0 to 1 of 2^x with N=1000: \",Int(0,1,1000,f2))\n",
    "print(\"The integral from 0 to 1 of x^3 with N=1000: \",Int(0,1,1000,f3))"
   ]
  },
  {
   "cell_type": "markdown",
   "metadata": {},
   "source": [
    "We can compare these values to the original values using scipy."
   ]
  },
  {
   "cell_type": "code",
   "execution_count": 21,
   "metadata": {},
   "outputs": [
    {
     "name": "stdout",
     "output_type": "stream",
     "text": [
      "2.0\n",
      "1.4426950408889634\n",
      "0.25\n"
     ]
    }
   ],
   "source": [
    "import scipy.integrate as integrate\n",
    "\n",
    "correctValue1 = integrate.quad(f1,0,np.pi)[0]\n",
    "correctValue2 = integrate.quad(f2,0,1)[0]\n",
    "correctValue3 = integrate.quad(f3,0,1)[0]\n",
    "\n",
    "print(correctValue1)\n",
    "print(correctValue2)\n",
    "print(correctValue3)"
   ]
  },
  {
   "cell_type": "markdown",
   "metadata": {},
   "source": [
    "## 1-dimensional Error Analysis\n",
    "When running the program, note that as $N$ gets larger, the approximation becomes closer to the actual value. Sometimes Monte Carlo integration results in a smaller value, sometimes it results in a larger value. I thought it would be interesting to display these values in a visual representation. Interestingly, the histogram \"peaks\" around $2$, which is is the exact value of the function. As the number of values increase, we notice that there is more and more of a bell curve. This is the Central Limit Theorem in play."
   ]
  },
  {
   "cell_type": "code",
   "execution_count": 5,
   "metadata": {},
   "outputs": [
    {
     "data": {
      "text/plain": [
       "Text(0.5, 0, 'Areas')"
      ]
     },
     "execution_count": 5,
     "metadata": {},
     "output_type": "execute_result"
    },
    {
     "data": {
      "image/png": "[encoded data removed]",
      "text/plain": [
       "<Figure size 432x288 with 1 Axes>"
      ]
     },
     "metadata": {
      "needs_background": "light"
     },
     "output_type": "display_data"
    }
   ],
   "source": [
    "import matplotlib.pyplot as plt\n",
    "\n",
    "areas1 = []\n",
    "areas2 = []\n",
    "areas3 = []\n",
    "\n",
    "for i in range(5000):\n",
    "    areas1.append(Int(0,np.pi,1000,f1))\n",
    "    \n",
    "plt.title(\"Visual representation of 1-dimensional Monte Carlo Integration on function six(x) for N=1000\")\n",
    "plt.hist(areas1,bins=30,ec='blue')\n",
    "plt.xlabel(\"Areas\")"
   ]
  },
  {
   "cell_type": "code",
   "execution_count": 11,
   "metadata": {},
   "outputs": [
    {
     "data": {
      "text/plain": [
       "Text(0.5, 0, 'Areas')"
      ]
     },
     "execution_count": 11,
     "metadata": {},
     "output_type": "execute_result"
    },
    {
     "data": {
      "image/png": "[encoded data removed]",
      "text/plain": [
       "<Figure size 432x288 with 1 Axes>"
      ]
     },
     "metadata": {
      "needs_background": "light"
     },
     "output_type": "display_data"
    }
   ],
   "source": [
    "for i in range(5000):\n",
    "    areas2.append(Int(0,1,1000,f2))\n",
    "\n",
    "plt.title(\"Visual representation of 1-dimensional Monte Carlo Integration on function 2^x for N=1000\")\n",
    "plt.hist(areas2,bins=30,ec='blue')\n",
    "plt.xlabel(\"Areas\")"
   ]
  },
  {
   "cell_type": "code",
   "execution_count": 9,
   "metadata": {},
   "outputs": [
    {
     "data": {
      "text/plain": [
       "Text(0.5, 0, 'Areas')"
      ]
     },
     "execution_count": 9,
     "metadata": {},
     "output_type": "execute_result"
    },
    {
     "data": {
      "image/png": "[encoded data removed]",
      "text/plain": [
       "<Figure size 432x288 with 1 Axes>"
      ]
     },
     "metadata": {
      "needs_background": "light"
     },
     "output_type": "display_data"
    }
   ],
   "source": [
    "for i in range(1000):\n",
    "    areas3.append(Int(0,1,1000,f3))\n",
    "\n",
    "plt.title(\"Visual representation of 1-dimensional Monte Carlo Integration on function x^3 for N=1000\")\n",
    "plt.hist(areas3,bins=30,ec='blue')\n",
    "plt.xlabel(\"Areas\")"
   ]
  },
  {
   "cell_type": "markdown",
   "metadata": {},
   "source": [
    "## Monte Carlo for 2-dimension\n",
    "Monte Carlo Integration can be extended into higher dimensions. The following code implements Monte Carlo Integration in 2-dimensions."
   ]
  },
  {
   "cell_type": "code",
   "execution_count": 13,
   "metadata": {},
   "outputs": [],
   "source": [
    "def Int2(a, b, c, d, N, fn):\n",
    "    # a, b bounds of integration on x-axis\n",
    "    # c, d bounds of integration on y-axis\n",
    "    # N number of partitions\n",
    "    # fn function we are integrating\n",
    "    xrand = random.uniform(a,b,N) # creates a random division\n",
    "    yrand = random.uniform(c,d,N)\n",
    "    integral = 0.0\n",
    "    for i in range(N):\n",
    "        integral += fn(xrand[i],yrand[i])\n",
    "    return (b-a)*(d-c)/float(N)*integral"
   ]
  },
  {
   "cell_type": "markdown",
   "metadata": {},
   "source": [
    "### 2-dimension Examples\n",
    "In the first example, consider a circle.\n",
    "\n",
    "In the second example, consider $f(x,y)=1$ if $||(x,y)||\\leq R$ and $f(x,y)=0$ if $||(x,y)||\\geq R$. "
   ]
  },
  {
   "cell_type": "code",
   "execution_count": 31,
   "metadata": {},
   "outputs": [
    {
     "name": "stdout",
     "output_type": "stream",
     "text": [
      "43.06572442944435\n",
      "3.1904000000000003\n"
     ]
    }
   ],
   "source": [
    "def indCir(r,x,y):\n",
    "    if x**2 + y **2 < r**2:\n",
    "        return 1\n",
    "    else:\n",
    "        return 0\n",
    "\n",
    "f4 = lambda x,y : x**2 + y**2\n",
    "f5 = lambda x,y : indCir(1,x,y)\n",
    "\n",
    "print(Int2(-2,2,-2,2,5000,f4))\n",
    "print(Int2(-2,2,-2,2,5000,f5))"
   ]
  },
  {
   "cell_type": "markdown",
   "metadata": {},
   "source": [
    "### 2-Dimensional Error Analysis\n",
    "Similarily, we can conduct an error analysis on these 2-dimensional functions."
   ]
  },
  {
   "cell_type": "code",
   "execution_count": 26,
   "metadata": {},
   "outputs": [
    {
     "data": {
      "text/plain": [
       "Text(0.5, 0, 'Areas')"
      ]
     },
     "execution_count": 26,
     "metadata": {},
     "output_type": "execute_result"
    },
    {
     "data": {
      "image/png": "[encoded data removed]",
      "text/plain": [
       "<Figure size 432x288 with 1 Axes>"
      ]
     },
     "metadata": {
      "needs_background": "light"
     },
     "output_type": "display_data"
    }
   ],
   "source": [
    "areas4 = []\n",
    "areas5 = []\n",
    "\n",
    "for i in range(1000):\n",
    "    areas4.append(Int2(-2,2,-2,2,5000,f4))\n",
    "\n",
    "plt.title(\"Visual representation of 2-dimensional Monte Carlo Integration on function x*2 + y*2 for N=1000\")\n",
    "plt.hist(areas4,bins=30,ec='blue')\n",
    "plt.xlabel(\"Areas\")"
   ]
  },
  {
   "cell_type": "code",
   "execution_count": 27,
   "metadata": {},
   "outputs": [
    {
     "data": {
      "text/plain": [
       "Text(0.5, 0, 'Areas')"
      ]
     },
     "execution_count": 27,
     "metadata": {},
     "output_type": "execute_result"
    },
    {
     "data": {
      "image/png": "[encoded data removed]",
      "text/plain": [
       "<Figure size 432x288 with 1 Axes>"
      ]
     },
     "metadata": {
      "needs_background": "light"
     },
     "output_type": "display_data"
    }
   ],
   "source": [
    "for i in range(1000):\n",
    "    areas5.append(Int2(-2,2,-2,2,5000,f5))\n",
    "\n",
    "plt.title(\"Visual representation of 2-dimensional Monte Carlo Integration on function $f(x,y)=1$ if $||(x,y)||\\leq R$ and $f(x,y)=0$ if $||(x,y)||\\geq R$. \")\n",
    "plt.hist(areas5,bins=30,ec='blue')\n",
    "plt.xlabel(\"Areas\")"
   ]
  },
  {
   "cell_type": "markdown",
   "metadata": {},
   "source": [
    "## Monte Carlo for 3-dimensions\n",
    "Finally, we can even implement Monte Carlo Integration for 3-dimensions."
   ]
  },
  {
   "cell_type": "code",
   "execution_count": 16,
   "metadata": {},
   "outputs": [],
   "source": [
    "def Int3(a, b, c, d, e, f, N, fn):\n",
    "    # a, b bounds of integration on x-axis\n",
    "    # c, d bounds of integration on y-axis\n",
    "    # e, f bounds of integration on z-axis\n",
    "    # N number of partitions\n",
    "    # fn function we are integrating\n",
    "    xrand = random.uniform(a,b,N) # creates a random division\n",
    "    yrand = random.uniform(c,d,N)\n",
    "    zrand = random.uniform(e,f,N)\n",
    "    integral = 0.0\n",
    "    for i in range(N):\n",
    "        integral += fn(xrand[i],yrand[i],zrand[i])\n",
    "    return (b-a)*(d-c)/float(N)*integral"
   ]
  },
  {
   "cell_type": "markdown",
   "metadata": {},
   "source": [
    "### 3-Dimensional Examples"
   ]
  },
  {
   "cell_type": "code",
   "execution_count": 32,
   "metadata": {},
   "outputs": [
    {
     "name": "stdout",
     "output_type": "stream",
     "text": [
      "63.73956556681671\n",
      "-0.05739399803276597\n"
     ]
    }
   ],
   "source": [
    "f6 = lambda x,y,z : x**2 + y**2 + z**2\n",
    "f7 = lambda x,y,z : x/2 + y/2 + z/2\n",
    "\n",
    "print(Int3(-2,2,-2,2,-2,2,10000,f6))\n",
    "print(Int3(-2,2,-2,2,-2,2,10000,f7))"
   ]
  },
  {
   "cell_type": "markdown",
   "metadata": {},
   "source": [
    "### 3- Dimensional Error Analysis"
   ]
  },
  {
   "cell_type": "code",
   "execution_count": 34,
   "metadata": {},
   "outputs": [
    {
     "data": {
      "text/plain": [
       "Text(0.5, 0, 'Areas')"
      ]
     },
     "execution_count": 34,
     "metadata": {},
     "output_type": "execute_result"
    },
    {
     "data": {
      "image/png": "[encoded data removed]",
      "text/plain": [
       "<Figure size 432x288 with 1 Axes>"
      ]
     },
     "metadata": {
      "needs_background": "light"
     },
     "output_type": "display_data"
    }
   ],
   "source": [
    "areas6 = []\n",
    "areas7 = []\n",
    "\n",
    "for i in range(1000):\n",
    "    areas6.append(Int3(-2,2,-2,2,-2,2,10000,f6))\n",
    "\n",
    "plt.title(\"Visual representation of 2-dimensional Monte Carlo Integration on function x*2 + y*2 + z*2. \")\n",
    "plt.hist(areas6,bins=30,ec='blue')\n",
    "plt.xlabel(\"Areas\")"
   ]
  },
  {
   "cell_type": "code",
   "execution_count": 35,
   "metadata": {},
   "outputs": [
    {
     "data": {
      "text/plain": [
       "Text(0.5, 0, 'Areas')"
      ]
     },
     "execution_count": 35,
     "metadata": {},
     "output_type": "execute_result"
    },
    {
     "data": {
      "image/png": "[encoded data removed]",
      "text/plain": [
       "<Figure size 432x288 with 1 Axes>"
      ]
     },
     "metadata": {
      "needs_background": "light"
     },
     "output_type": "display_data"
    }
   ],
   "source": [
    "for i in range(1000):\n",
    "    areas7.append(Int3(-2,2,-2,2,-2,2,10000,f6))\n",
    "\n",
    "plt.title(\"Visual representation of 2-dimensional Monte Carlo Integration on function x/2 + y/2 + z/2.\")\n",
    "plt.hist(areas7,bins=30,ec='blue')\n",
    "plt.xlabel(\"Areas\")"
   ]
  }
 ],
 "metadata": {
  "kernelspec": {
   "display_name": "Python 3 (ipykernel)",
   "language": "python",
   "name": "python3"
  },
  "language_info": {
   "codemirror_mode": {
    "name": "ipython",
    "version": 3
   },
   "file_extension": ".py",
   "mimetype": "text/x-python",
   "name": "python",
   "nbconvert_exporter": "python",
   "pygments_lexer": "ipython3",
   "version": "3.9.7"
  }
 },
 "nbformat": 4,
 "nbformat_minor": 2
}
